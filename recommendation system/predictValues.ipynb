{
 "cells": [
  {
   "cell_type": "code",
   "execution_count": 1,
   "metadata": {
    "collapsed": true
   },
   "outputs": [],
   "source": [
    "import pandas as pd \n",
    "import pickle\n",
    "from textblob import TextBlob,Word"
   ]
  },
  {
   "cell_type": "code",
   "execution_count": 2,
   "metadata": {
    "collapsed": true
   },
   "outputs": [],
   "source": [
    "def load_obj(name ):\n",
    "    with open( name + '.pkl', 'rb') as f:\n",
    "        return pickle.load(f)"
   ]
  },
  {
   "cell_type": "code",
   "execution_count": 3,
   "metadata": {
    "collapsed": true
   },
   "outputs": [],
   "source": [
    "def getReview(res_id):\n",
    "    reviews = []\n",
    "    \n",
    "    rev = df[(df['restaurant_id']==res_id) & (df['useful']>0)]['review']\n",
    "    for r in rev:\n",
    "        reviews.append(r)\n",
    "    return reviews"
   ]
  },
  {
   "cell_type": "code",
   "execution_count": 4,
   "metadata": {
    "collapsed": true
   },
   "outputs": [],
   "source": [
    "def getPrediction(id):\n",
    "    rev= getReview(id)\n",
    "    food_count = 0 \n",
    "    serv_count = 0\n",
    "    amb_count = 0\n",
    "    deal_count = 0\n",
    "\n",
    "    for review in rev:\n",
    "        prediction = {}\n",
    "        prediction[\"food\"] = food_classifier.predict([review])[0]\n",
    "        prediction[\"service\"] = service_classifier.predict([review])[0]\n",
    "        prediction[\"amb\"] = amb_classifier.predict([review])[0]\n",
    "        prediction[\"deals\"] = deal_classifier.predict([review])[0]\n",
    "\n",
    "        if(prediction[\"food\"]==1):\n",
    "            food_count += 1\n",
    "        if(prediction[\"service\"]==1):\n",
    "            serv_count += 1\n",
    "        if(prediction[\"amb\"]==1):\n",
    "            amb_count += 1\n",
    "        if(prediction[\"deals\"]==1):\n",
    "            deal_count += 1\n",
    "\n",
    "    #     print(prediction)\n",
    "\n",
    "    rev_size = len(rev)\n",
    "    if(rev_size> 0 ):\n",
    "        food_per = food_count/rev_size*100\n",
    "        serv_per = serv_count/rev_size*100\n",
    "        amb_per = amb_count/rev_size*100\n",
    "        deal_per = deal_count/rev_size*100\n",
    "    else:\n",
    "        food_per= 0 \n",
    "        serv_per=0\n",
    "        amb_per=0\n",
    "        deal_per=0 \n",
    "\n",
    "    # print(rev_size,food_per,serv_per,amb_per,deal_per)\n",
    "    return (rev_size,food_per,serv_per,amb_per,deal_per)"
   ]
  },
  {
   "cell_type": "code",
   "execution_count": 5,
   "metadata": {
    "collapsed": true
   },
   "outputs": [],
   "source": [
    "def stemming_tokenizer(text):\n",
    "    stopwords = []\n",
    "    with open('files/new_sw.txt','r+') as f:\n",
    "        stopword = f.readlines()\n",
    "        for sw in stopword:\n",
    "            sw = sw[:-1]\n",
    "            stopwords.append(sw)\n",
    "    f.close()\n",
    "    text = text.lower()\n",
    "    words = TextBlob(text).correct().words\n",
    "    words = [Word(w).lemmatize(\"v\") for w in words if not w in stopwords]\n",
    "    return words"
   ]
  },
  {
   "cell_type": "code",
   "execution_count": 6,
   "metadata": {
    "collapsed": false
   },
   "outputs": [],
   "source": [
    "df = pd.read_csv('files/reviews.csv', encoding = \"ISO-8859-1\")"
   ]
  },
  {
   "cell_type": "code",
   "execution_count": 7,
   "metadata": {
    "collapsed": false
   },
   "outputs": [],
   "source": [
    "food_classifier= load_obj('food_classifier')\n",
    "service_classifier= load_obj('service_classifier')\n",
    "amb_classifier= load_obj('amb_classifier')\n",
    "deal_classifier= load_obj('deal_classifier')"
   ]
  },
  {
   "cell_type": "code",
   "execution_count": 8,
   "metadata": {
    "collapsed": true
   },
   "outputs": [],
   "source": [
    "pred= pd.read_csv('prediction.csv',encoding=\"ISO-8859-1\")"
   ]
  },
  {
   "cell_type": "code",
   "execution_count": 11,
   "metadata": {
    "collapsed": false
   },
   "outputs": [
    {
     "name": "stdout",
     "output_type": "stream",
     "text": [
      "7\n"
     ]
    }
   ],
   "source": [
    "for id in pred.restaurant_id:\n",
    "    i,a,b,c,d= getPrediction(int(id))\n",
    "    pred.iloc[id-1,1]= a\n",
    "    pred.iloc[id-1,2]= b \n",
    "    pred.iloc[id-1,3]= c \n",
    "    pred.iloc[id-1,4]= d \n",
    "    print(i)\n",
    "    break"
   ]
  },
  {
   "cell_type": "code",
   "execution_count": 13,
   "metadata": {
    "collapsed": false
   },
   "outputs": [
    {
     "name": "stdout",
     "output_type": "stream",
     "text": [
      "<class 'numpy.int64'>\n"
     ]
    }
   ],
   "source": [
    "print(type(id))"
   ]
  },
  {
   "cell_type": "code",
   "execution_count": 14,
   "metadata": {
    "collapsed": true
   },
   "outputs": [],
   "source": [
    "pred.to_csv('prediction.csv', index=None)"
   ]
  },
  {
   "cell_type": "code",
   "execution_count": null,
   "metadata": {
    "collapsed": true
   },
   "outputs": [],
   "source": []
  },
  {
   "cell_type": "code",
   "execution_count": null,
   "metadata": {
    "collapsed": true
   },
   "outputs": [],
   "source": []
  }
 ],
 "metadata": {
  "kernelspec": {
   "display_name": "Python [Root]",
   "language": "python",
   "name": "Python [Root]"
  },
  "language_info": {
   "codemirror_mode": {
    "name": "ipython",
    "version": 3
   },
   "file_extension": ".py",
   "mimetype": "text/x-python",
   "name": "python",
   "nbconvert_exporter": "python",
   "pygments_lexer": "ipython3",
   "version": "3.5.2"
  }
 },
 "nbformat": 4,
 "nbformat_minor": 0
}
