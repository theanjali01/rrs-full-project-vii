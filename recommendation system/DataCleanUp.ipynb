{
 "cells": [
  {
   "cell_type": "markdown",
   "metadata": {},
   "source": [
    "# Data Cleanup"
   ]
  },
  {
   "cell_type": "code",
   "execution_count": 1,
   "metadata": {
    "collapsed": true
   },
   "outputs": [],
   "source": [
    "import json "
   ]
  },
  {
   "cell_type": "markdown",
   "metadata": {},
   "source": [
    "## Training Data"
   ]
  },
  {
   "cell_type": "code",
   "execution_count": 10,
   "metadata": {
    "collapsed": true
   },
   "outputs": [],
   "source": [
    "review=open('yelp_training_set_review.json')\n",
    "business=open('yelp_training_set_business.json')\n",
    "user=open('yelp_training_set_user.json')"
   ]
  },
  {
   "cell_type": "code",
   "execution_count": 13,
   "metadata": {
    "collapsed": false
   },
   "outputs": [],
   "source": [
    "review=open('yelp_test_set_review.json')\n",
    "business=open('yelp_test_set_business.json')\n",
    "user=open('yelp_test_set_user.json')"
   ]
  },
  {
   "cell_type": "code",
   "execution_count": 15,
   "metadata": {
    "collapsed": false
   },
   "outputs": [],
   "source": [
    "test_data={}"
   ]
  },
  {
   "cell_type": "code",
   "execution_count": 16,
   "metadata": {
    "collapsed": true
   },
   "outputs": [],
   "source": [
    "data=[]\n",
    "for line in review:\n",
    "    data.append(line)\n",
    "test_data['review']=data\n",
    "\n",
    "data=[]\n",
    "for line in business:\n",
    "    data.append(line)\n",
    "test_data['business']=data\n",
    "\n",
    "data=[]\n",
    "for line in user:\n",
    "    data.append(line)\n",
    "test_data['user']=data"
   ]
  },
  {
   "cell_type": "code",
   "execution_count": 3,
   "metadata": {
    "collapsed": false
   },
   "outputs": [],
   "source": [
    "train_data={}"
   ]
  },
  {
   "cell_type": "code",
   "execution_count": 4,
   "metadata": {
    "collapsed": true
   },
   "outputs": [],
   "source": [
    "data=[]\n",
    "for line in review:\n",
    "    data.append(line)\n",
    "train_data['review']=data\n",
    "\n",
    "data=[]\n",
    "for line in business:\n",
    "    data.append(line)\n",
    "train_data['business']=data\n",
    "\n",
    "data=[]\n",
    "for line in user:\n",
    "    data.append(line)\n",
    "train_data['user']=data"
   ]
  },
  {
   "cell_type": "code",
   "execution_count": 5,
   "metadata": {
    "collapsed": false
   },
   "outputs": [
    {
     "data": {
      "text/plain": [
       "dict_keys(['type', 'votes', 'review_id', 'user_id', 'text', 'stars', 'date', 'business_id'])"
      ]
     },
     "execution_count": 5,
     "metadata": {},
     "output_type": "execute_result"
    }
   ],
   "source": [
    "eval(train_data['review'][0]).keys()"
   ]
  },
  {
   "cell_type": "code",
   "execution_count": 18,
   "metadata": {
    "collapsed": false
   },
   "outputs": [
    {
     "data": {
      "text/plain": [
       "['business_id',\n",
       " 'full_address',\n",
       " 'open',\n",
       " 'categories',\n",
       " 'city',\n",
       " 'review_count',\n",
       " 'name',\n",
       " 'neighborhoods',\n",
       " 'longitude',\n",
       " 'state',\n",
       " 'stars',\n",
       " 'latitude',\n",
       " 'type']"
      ]
     },
     "execution_count": 18,
     "metadata": {},
     "output_type": "execute_result"
    }
   ],
   "source": [
    "eval(train_data['business'][1].replace('true','\"true\"')).keys() "
   ]
  },
  {
   "cell_type": "code",
   "execution_count": 10,
   "metadata": {
    "collapsed": false
   },
   "outputs": [
    {
     "name": "stdout",
     "output_type": "stream",
     "text": [
      "['Accountants', 'Professional Services', 'Tax Services', 'Financial Services']\n",
      "['Sporting Goods', 'Bikes', 'Shopping']\n",
      "[]\n",
      "['Food', 'Grocery']\n",
      "['Food', 'Bagels', 'Delis', 'Restaurants']\n",
      "[\"Women's Clothing\", 'Fashion', 'Shopping']\n",
      "['Music & DVDs', 'Books, Mags, Music & Video', 'Vinyl Records', 'Shopping']\n",
      "['Event Planning & Services', 'Venues & Event Spaces']\n",
      "['Art Schools', 'Specialty Schools', 'Shopping', 'Jewelry', 'Accessories', 'Fashion', 'Education']\n",
      "['Sandwiches', 'Restaurants']\n",
      "['Music & DVDs', 'Books, Mags, Music & Video', 'Musical Instruments & Teachers', 'Shopping']\n",
      "['Mexican', 'Restaurants']\n",
      "['Food', 'Grocery']\n",
      "['Pizza', 'Restaurants']\n",
      "['Hotels & Travel', 'Event Planning & Services', 'Hotels']\n",
      "['Department Stores', 'Fashion', 'Shopping']\n",
      "['Window Washing', 'Home Services']\n",
      "['Burgers', 'Restaurants']\n",
      "['Kitchen & Bath', 'Shopping', 'Home & Garden']\n",
      "['Food', 'Beer, Wine & Spirits']\n",
      "['Plumbing', 'Home Services']\n"
     ]
    },
    {
     "ename": "NameError",
     "evalue": "name 'false' is not defined",
     "output_type": "error",
     "traceback": [
      "\u001b[1;31m---------------------------------------------------------------------------\u001b[0m",
      "\u001b[1;31mNameError\u001b[0m                                 Traceback (most recent call last)",
      "\u001b[1;32m<ipython-input-10-90c76df3a6bf>\u001b[0m in \u001b[0;36m<module>\u001b[1;34m()\u001b[0m\n\u001b[0;32m      1\u001b[0m \u001b[1;32mfor\u001b[0m \u001b[0mx\u001b[0m \u001b[1;32min\u001b[0m \u001b[0mtrain_data\u001b[0m\u001b[1;33m[\u001b[0m\u001b[1;34m'business'\u001b[0m\u001b[1;33m]\u001b[0m\u001b[1;33m[\u001b[0m\u001b[1;33m:\u001b[0m\u001b[1;36m100\u001b[0m\u001b[1;33m]\u001b[0m\u001b[1;33m:\u001b[0m\u001b[1;33m\u001b[0m\u001b[0m\n\u001b[1;32m----> 2\u001b[1;33m     \u001b[0mprint\u001b[0m\u001b[1;33m(\u001b[0m\u001b[0meval\u001b[0m\u001b[1;33m(\u001b[0m\u001b[0mx\u001b[0m\u001b[1;33m.\u001b[0m\u001b[0mreplace\u001b[0m\u001b[1;33m(\u001b[0m\u001b[1;34m'true'\u001b[0m\u001b[1;33m,\u001b[0m\u001b[1;34m'\"true\"'\u001b[0m\u001b[1;33m)\u001b[0m\u001b[1;33m)\u001b[0m\u001b[1;33m[\u001b[0m\u001b[1;34m'categories'\u001b[0m\u001b[1;33m]\u001b[0m\u001b[1;33m)\u001b[0m\u001b[1;33m\u001b[0m\u001b[0m\n\u001b[0m",
      "\u001b[1;32m<string>\u001b[0m in \u001b[0;36m<module>\u001b[1;34m()\u001b[0m\n",
      "\u001b[1;31mNameError\u001b[0m: name 'false' is not defined"
     ]
    }
   ],
   "source": [
    "for x in train_data['business'][:100]:\n",
    "    print(eval(x.replace('true','\"true\"').replace())['categories'])"
   ]
  },
  {
   "cell_type": "code",
   "execution_count": 21,
   "metadata": {
    "collapsed": false
   },
   "outputs": [
    {
     "data": {
      "text/plain": [
       "dict_keys(['longitude', 'name', 'review_count', 'business_id', 'city', 'open', 'full_address', 'categories', 'state', 'type', 'latitude', 'neighborhoods'])"
      ]
     },
     "execution_count": 21,
     "metadata": {},
     "output_type": "execute_result"
    }
   ],
   "source": [
    "eval(test_data['business'][0].replace('true','\"True\"')).keys()"
   ]
  },
  {
   "cell_type": "code",
   "execution_count": null,
   "metadata": {
    "collapsed": true
   },
   "outputs": [],
   "source": []
  },
  {
   "cell_type": "code",
   "execution_count": null,
   "metadata": {
    "collapsed": true
   },
   "outputs": [],
   "source": []
  },
  {
   "cell_type": "code",
   "execution_count": 42,
   "metadata": {
    "collapsed": false
   },
   "outputs": [],
   "source": [
    "restaurants=[]\n",
    "restaurantIds = []\n",
    "i=1\n",
    "for d in train_data['business']:\n",
    "    data={}\n",
    "    d=d.replace('true','\"true\"')\n",
    "    d=d.replace('false','\"false\"')\n",
    "    categories=eval(d)['categories']\n",
    "    if('Restaurants' in categories):\n",
    "        data['restaurant_id']=eval(d)['business_id']\n",
    "        data['full_address']=eval(d)['full_address'].replace('\\\\n',',')\n",
    "        data['city']=eval(d)['city']\n",
    "        data['review_count']=eval(d)['review_count']\n",
    "        data['longitude']=eval(d)['longitude']\n",
    "        data['latitude']=eval(d)['latitude']\n",
    "        data['state']=eval(d)['state']\n",
    "        data['rating']=eval(d)['stars']\n",
    "        data['restaurant_name']=eval(d)['name']\n",
    "        data['new_id']=i\n",
    "        i+=1\n",
    "        restaurants.append(data)\n",
    "        restaurantIds.append(data['restaurant_id'])"
   ]
  },
  {
   "cell_type": "code",
   "execution_count": 33,
   "metadata": {
    "collapsed": false
   },
   "outputs": [],
   "source": [
    "trestaurants=[]\n",
    "trestaurantIds = []\n",
    "i=1\n",
    "for d in test_data['business']:\n",
    "    data={}\n",
    "    d=d.replace('true','\"true\"')\n",
    "    d=d.replace('false','\"false\"')\n",
    "    categories=eval(d)['categories']\n",
    "    if('Restaurants' in categories):\n",
    "        data['restaurant_id']=eval(d)['business_id']\n",
    "        data['full_address']=eval(d)['full_address'].replace('\\\\n',',')\n",
    "        data['city']=eval(d)['city']\n",
    "        data['review_count']=eval(d)['review_count']\n",
    "        data['longitude']=eval(d)['longitude']\n",
    "        data['latitude']=eval(d)['latitude']\n",
    "        data['state']=eval(d)['state']\n",
    "        data['restaurant_name']=eval(d)['name']\n",
    "        data['new_id']=i\n",
    "        i+=1\n",
    "        trestaurants.append(data)\n",
    "        trestaurantIds.append(data['restaurant_id'])"
   ]
  },
  {
   "cell_type": "code",
   "execution_count": 12,
   "metadata": {
    "collapsed": false
   },
   "outputs": [
    {
     "data": {
      "text/plain": [
       "dict_keys(['review_count', 'new_id', 'city', 'rating', 'restaurant_name', 'longitude', 'restaurant_id', 'full_address', 'state', 'latitude'])"
      ]
     },
     "execution_count": 12,
     "metadata": {},
     "output_type": "execute_result"
    }
   ],
   "source": [
    "restaurants[0].keys()"
   ]
  },
  {
   "cell_type": "code",
   "execution_count": 13,
   "metadata": {
    "collapsed": false
   },
   "outputs": [
    {
     "data": {
      "text/plain": [
       "{'city': 'Glendale Az',\n",
       " 'full_address': '6520 W Happy Valley Rd\\nSte 101\\nGlendale Az, AZ 85310',\n",
       " 'latitude': 33.712797,\n",
       " 'longitude': -112.200264,\n",
       " 'new_id': 1,\n",
       " 'rating': 3.5,\n",
       " 'restaurant_id': 'PzOqRohWw7F7YEPBz6AubA',\n",
       " 'restaurant_name': 'Hot Bagels & Deli',\n",
       " 'review_count': 14,\n",
       " 'state': 'AZ'}"
      ]
     },
     "execution_count": 13,
     "metadata": {},
     "output_type": "execute_result"
    }
   ],
   "source": [
    "restaurants[0]"
   ]
  },
  {
   "cell_type": "code",
   "execution_count": 43,
   "metadata": {
    "collapsed": true
   },
   "outputs": [],
   "source": [
    "reskey={}\n",
    "for i in restaurants:\n",
    "    reskey[i['restaurant_id']]=i['new_id']"
   ]
  },
  {
   "cell_type": "code",
   "execution_count": 36,
   "metadata": {
    "collapsed": false
   },
   "outputs": [
    {
     "data": {
      "text/plain": [
       "325"
      ]
     },
     "execution_count": 36,
     "metadata": {},
     "output_type": "execute_result"
    }
   ],
   "source": [
    "len(trestaurants)"
   ]
  },
  {
   "cell_type": "code",
   "execution_count": null,
   "metadata": {
    "collapsed": true
   },
   "outputs": [],
   "source": []
  },
  {
   "cell_type": "code",
   "execution_count": null,
   "metadata": {
    "collapsed": true
   },
   "outputs": [],
   "source": []
  },
  {
   "cell_type": "code",
   "execution_count": 30,
   "metadata": {
    "collapsed": false
   },
   "outputs": [
    {
     "data": {
      "text/plain": [
       "'{\"votes\": {\"funny\": 0, \"useful\": 5, \"cool\": 2}, \"user_id\": \"rLtl8ZkDX5vH5nAx9C3q5Q\", \"review_id\": \"fWKvX83p0-ka4JS3dc6E5A\", \"stars\": 5, \"date\": \"2011-01-26\", \"text\": \"My wife took me here on my birthday for breakfast and it was excellent.  The weather was perfect which made sitting outside overlooking their grounds an absolute pleasure.  Our waitress was excellent and our food arrived quickly on the semi-busy Saturday morning.  It looked like the place fills up pretty quickly so the earlier you get here the better.\\\\n\\\\nDo yourself a favor and get their Bloody Mary.  It was phenomenal and simply the best I\\'ve ever had.  I\\'m pretty sure they only use ingredients from their garden and blend them fresh when you order it.  It was amazing.\\\\n\\\\nWhile EVERYTHING on the menu looks excellent, I had the white truffle scrambled eggs vegetable skillet and it was tasty and delicious.  It came with 2 pieces of their griddled bread with was amazing and it absolutely made the meal complete.  It was the best \\\\\"toast\\\\\" I\\'ve ever had.\\\\n\\\\nAnyway, I can\\'t wait to go back!\", \"type\": \"review\", \"business_id\": \"9yKzy9PApeiPPOUJEtnvkg\"}\\n'"
      ]
     },
     "execution_count": 30,
     "metadata": {},
     "output_type": "execute_result"
    }
   ],
   "source": [
    "train_data['review'][0]"
   ]
  },
  {
   "cell_type": "code",
   "execution_count": 32,
   "metadata": {
    "collapsed": false
   },
   "outputs": [
    {
     "data": {
      "text/plain": [
       "['votes',\n",
       " 'user_id',\n",
       " 'review_id',\n",
       " 'stars',\n",
       " 'date',\n",
       " 'text',\n",
       " 'type',\n",
       " 'business_id']"
      ]
     },
     "execution_count": 32,
     "metadata": {},
     "output_type": "execute_result"
    }
   ],
   "source": [
    "eval(train_data['review'][0]).keys()"
   ]
  },
  {
   "cell_type": "code",
   "execution_count": 44,
   "metadata": {
    "collapsed": false
   },
   "outputs": [],
   "source": [
    "reviews=[]\n",
    "i=1\n",
    "userid=[]\n",
    "for d in train_data['review']:\n",
    "    data={}\n",
    "    res_id=eval(d)['business_id']\n",
    "    if(res_id in restaurantIds):\n",
    "        try:\n",
    "            data['user_id']=userkey[eval(d)['user_id']]\n",
    "            data['review_id']=i\n",
    "            i+=1\n",
    "            data['date']=eval(d)['date']\n",
    "            data['review']=eval(d)['text'].replace('\\n',' ').replace('\\\\','').replace(\"\\'\",\"'\")\n",
    "            data['rating']=eval(d)['stars']\n",
    "    #         for i in restaurants:\n",
    "    #             if(i['restaurant_id']==res_id):\n",
    "    #                 data['restaurant_id']=i['new_id']\n",
    "    #                 break\n",
    "\n",
    "            data['restaurant_id']=reskey[eval(d)['business_id']]\n",
    "            votes=eval(d)['votes']\n",
    "            data['funny']=votes['funny']\n",
    "            data['cool']=votes['cool']\n",
    "            data['useful']=votes['useful']\n",
    "            userid.append(eval(d)['user_id'])\n",
    "            reviews.append(data)\n",
    "        except (KeyError ):\n",
    "            continue"
   ]
  },
  {
   "cell_type": "code",
   "execution_count": 38,
   "metadata": {
    "collapsed": false
   },
   "outputs": [],
   "source": [
    "treviews=[]\n",
    "i=1\n",
    "userid=[]\n",
    "for d in test_data['review']:\n",
    "    data={}\n",
    "    res_id=eval(d)['business_id']\n",
    "    if(res_id in trestaurantIds):\n",
    "        try:\n",
    "            data['user_id']=userkey[eval(d)['user_id']]\n",
    "            data['review_id']=i\n",
    "            i+=1\n",
    "            data['date']=eval(d)['date']\n",
    "            data['review']=eval(d)['text'].replace('\\n',' ').replace('\\\\','').replace(\"\\'\",\"'\")\n",
    "            data['rating']=eval(d)['stars']\n",
    "    #         for i in restaurants:\n",
    "    #             if(i['restaurant_id']==res_id):\n",
    "    #                 data['restaurant_id']=i['new_id']\n",
    "    #                 break\n",
    "\n",
    "            data['restaurant_id']=reskey[eval(d)['business_id']]\n",
    "            votes=eval(d)['votes']\n",
    "            data['funny']=votes['funny']\n",
    "            data['cool']=votes['cool']\n",
    "            data['useful']=votes['useful']\n",
    "            userid.append(eval(d)['user_id'])\n",
    "            treviews.append(data)\n",
    "        except (KeyError ):\n",
    "            continue"
   ]
  },
  {
   "cell_type": "code",
   "execution_count": 35,
   "metadata": {
    "collapsed": false
   },
   "outputs": [
    {
     "data": {
      "text/plain": [
       "{'cool': 2,\n",
       " 'date': '2011-01-26',\n",
       " 'funny': 0,\n",
       " 'rating': 5,\n",
       " 'restaurant_id': 3010,\n",
       " 'review': 'My wife took me here on my birthday for breakfast and it was excellent.  The weather was perfect which made sitting outside overlooking their grounds an absolute pleasure.  Our waitress was excellent and our food arrived quickly on the semi-busy Saturday morning.  It looked like the place fills up pretty quickly so the earlier you get here the better.  Do yourself a favor and get their Bloody Mary.  It was phenomenal and simply the best I\\'ve ever had.  I\\'m pretty sure they only use ingredients from their garden and blend them fresh when you order it.  It was amazing.  While EVERYTHING on the menu looks excellent, I had the white truffle scrambled eggs vegetable skillet and it was tasty and delicious.  It came with 2 pieces of their griddled bread with was amazing and it absolutely made the meal complete.  It was the best \"toast\" I\\'ve ever had.  Anyway, I can\\'t wait to go back!',\n",
       " 'review_id': 1,\n",
       " 'useful': 5,\n",
       " 'user_id': 24538}"
      ]
     },
     "execution_count": 35,
     "metadata": {},
     "output_type": "execute_result"
    }
   ],
   "source": [
    "reviews[0]"
   ]
  },
  {
   "cell_type": "code",
   "execution_count": 19,
   "metadata": {
    "collapsed": false
   },
   "outputs": [
    {
     "name": "stdout",
     "output_type": "stream",
     "text": [
      "{'review_count': 116, 'new_id': 3010, 'city': 'Phoenix', 'rating': 4.0, 'restaurant_name': 'Morning Glory Cafe', 'longitude': -112.012504, 'restaurant_id': '9yKzy9PApeiPPOUJEtnvkg', 'full_address': '6106 S 32nd St\\nPhoenix, AZ 85042', 'state': 'AZ', 'latitude': 33.390792}\n"
     ]
    }
   ],
   "source": [
    "for i in restaurants:\n",
    "    if(i['new_id']==3010):\n",
    "        print (i)\n",
    "        break\n",
    "    "
   ]
  },
  {
   "cell_type": "code",
   "execution_count": 46,
   "metadata": {
    "collapsed": false
   },
   "outputs": [
    {
     "data": {
      "text/plain": [
       "{'average_stars': 5.0,\n",
       " 'name': 'Jim',\n",
       " 'review_count': 6,\n",
       " 'type': 'user',\n",
       " 'user_id': 'CR2y7yEm4X035ZMzrTtN9Q',\n",
       " 'votes': {'cool': 0, 'funny': 0, 'useful': 7}}"
      ]
     },
     "execution_count": 46,
     "metadata": {},
     "output_type": "execute_result"
    }
   ],
   "source": [
    "eval(train_data['user'][0])"
   ]
  },
  {
   "cell_type": "code",
   "execution_count": 47,
   "metadata": {
    "collapsed": true
   },
   "outputs": [],
   "source": [
    "userid=set(userid)"
   ]
  },
  {
   "cell_type": "code",
   "execution_count": null,
   "metadata": {
    "collapsed": true
   },
   "outputs": [],
   "source": []
  },
  {
   "cell_type": "code",
   "execution_count": 48,
   "metadata": {
    "collapsed": false
   },
   "outputs": [],
   "source": [
    "import unidecode\n"
   ]
  },
  {
   "cell_type": "code",
   "execution_count": 49,
   "metadata": {
    "collapsed": false
   },
   "outputs": [],
   "source": [
    "users=[]\n",
    "i=0\n",
    "for d in train_data['user']:\n",
    "    data={}\n",
    "    uid=eval(d)['user_id']\n",
    "    if(uid in userid):\n",
    "        name=str(eval(d)['name'])\n",
    "    #     print(type(name))\n",
    "        name = unidecode.unidecode(str(name.encode('utf-8')))\n",
    "        data['user_id']=eval(d)['user_id']\n",
    "        data['new_id']=i\n",
    "        i+=1\n",
    "        data['user_name']=name\n",
    "        users.append(data)"
   ]
  },
  {
   "cell_type": "code",
   "execution_count": 50,
   "metadata": {
    "collapsed": false
   },
   "outputs": [
    {
     "data": {
      "text/plain": [
       "{'new_id': 0, 'user_id': 'CR2y7yEm4X035ZMzrTtN9Q', 'user_name': \"b'Jim'\"}"
      ]
     },
     "execution_count": 50,
     "metadata": {},
     "output_type": "execute_result"
    }
   ],
   "source": [
    "users[0]"
   ]
  },
  {
   "cell_type": "code",
   "execution_count": 51,
   "metadata": {
    "collapsed": false
   },
   "outputs": [
    {
     "data": {
      "text/plain": [
       "34789"
      ]
     },
     "execution_count": 51,
     "metadata": {},
     "output_type": "execute_result"
    }
   ],
   "source": [
    "len(users)"
   ]
  },
  {
   "cell_type": "code",
   "execution_count": 28,
   "metadata": {
    "collapsed": true
   },
   "outputs": [],
   "source": [
    "tusers=[]\n",
    "i=0\n",
    "for d in test_data['user']:\n",
    "    data={}\n",
    "    name=str(eval(d)['name'])\n",
    "#     print(type(name))\n",
    "    name = unidecode.unidecode(str(name.encode('utf-8')))\n",
    "    data['user_id']=eval(d)['user_id']\n",
    "    data['new_id']=i\n",
    "    i+=1\n",
    "    data['user_name']=name\n",
    "    tusers.append(data)"
   ]
  },
  {
   "cell_type": "code",
   "execution_count": 29,
   "metadata": {
    "collapsed": false
   },
   "outputs": [
    {
     "data": {
      "text/plain": [
       "5105"
      ]
     },
     "execution_count": 29,
     "metadata": {},
     "output_type": "execute_result"
    }
   ],
   "source": [
    "len(tusers)"
   ]
  },
  {
   "cell_type": "code",
   "execution_count": 30,
   "metadata": {
    "collapsed": true
   },
   "outputs": [],
   "source": [
    "userkey={}\n",
    "for i in users:\n",
    "    userkey[i['user_id']]=i['new_id']"
   ]
  },
  {
   "cell_type": "code",
   "execution_count": 23,
   "metadata": {
    "collapsed": true
   },
   "outputs": [],
   "source": [
    "userkey={}\n",
    "for i in users:\n",
    "    userkey[i['user_id']]=i['new_id']"
   ]
  },
  {
   "cell_type": "code",
   "execution_count": 42,
   "metadata": {
    "collapsed": true
   },
   "outputs": [],
   "source": [
    "def save_obj(obj, name ):\n",
    "    with open( name + '.pkl', 'wb') as f:\n",
    "        pickle.dump(obj, f, pickle.HIGHEST_PROTOCOL)"
   ]
  },
  {
   "cell_type": "code",
   "execution_count": 43,
   "metadata": {
    "collapsed": true
   },
   "outputs": [],
   "source": [
    "import pickle"
   ]
  },
  {
   "cell_type": "code",
   "execution_count": 44,
   "metadata": {
    "collapsed": true
   },
   "outputs": [],
   "source": [
    "save_obj(reviews, 'reviews')"
   ]
  },
  {
   "cell_type": "code",
   "execution_count": 46,
   "metadata": {
    "collapsed": true
   },
   "outputs": [],
   "source": [
    "save_obj(restaurants, 'restaurants')"
   ]
  },
  {
   "cell_type": "code",
   "execution_count": 1,
   "metadata": {
    "collapsed": true
   },
   "outputs": [],
   "source": [
    "import json"
   ]
  },
  {
   "cell_type": "code",
   "execution_count": 3,
   "metadata": {
    "collapsed": false
   },
   "outputs": [],
   "source": [
    "import pandas as pd"
   ]
  },
  {
   "cell_type": "code",
   "execution_count": 39,
   "metadata": {
    "collapsed": false
   },
   "outputs": [
    {
     "data": {
      "text/plain": [
       "0"
      ]
     },
     "execution_count": 39,
     "metadata": {},
     "output_type": "execute_result"
    }
   ],
   "source": [
    "len(treviews)"
   ]
  },
  {
   "cell_type": "code",
   "execution_count": 40,
   "metadata": {
    "collapsed": false
   },
   "outputs": [
    {
     "data": {
      "text/plain": [
       "5105"
      ]
     },
     "execution_count": 40,
     "metadata": {},
     "output_type": "execute_result"
    }
   ],
   "source": [
    "len(tusers)"
   ]
  },
  {
   "cell_type": "markdown",
   "metadata": {},
   "source": [
    "# Json to CSV"
   ]
  },
  {
   "cell_type": "code",
   "execution_count": 52,
   "metadata": {
    "collapsed": true
   },
   "outputs": [],
   "source": [
    "import csv"
   ]
  },
  {
   "cell_type": "code",
   "execution_count": 39,
   "metadata": {
    "collapsed": false
   },
   "outputs": [],
   "source": [
    "with open('restaurants.csv', 'w') as csvfile:\n",
    "        csvdoc = csv.DictWriter(csvfile, \n",
    "                                fieldnames=restaurants[0].keys())\n",
    "        csvdoc.writeheader()\n",
    "        csvdoc.writerows(restaurants)"
   ]
  },
  {
   "cell_type": "code",
   "execution_count": 40,
   "metadata": {
    "collapsed": false
   },
   "outputs": [],
   "source": [
    "with open('reviews.csv', 'w') as csvfile:\n",
    "        csvdoc = csv.DictWriter(csvfile, \n",
    "                                fieldnames=reviews[0].keys())\n",
    "        csvdoc.writeheader()\n",
    "        csvdoc.writerows(reviews)"
   ]
  },
  {
   "cell_type": "code",
   "execution_count": 53,
   "metadata": {
    "collapsed": true
   },
   "outputs": [],
   "source": [
    "with open('users.csv', 'w') as csvfile:\n",
    "        csvdoc = csv.DictWriter(csvfile, \n",
    "                                fieldnames=users[0].keys())\n",
    "        csvdoc.writeheader()\n",
    "        csvdoc.writerows(users)"
   ]
  },
  {
   "cell_type": "code",
   "execution_count": null,
   "metadata": {
    "collapsed": true
   },
   "outputs": [],
   "source": []
  }
 ],
 "metadata": {
  "anaconda-cloud": {},
  "kernelspec": {
   "display_name": "Python [Root]",
   "language": "python",
   "name": "Python [Root]"
  },
  "language_info": {
   "codemirror_mode": {
    "name": "ipython",
    "version": 3
   },
   "file_extension": ".py",
   "mimetype": "text/x-python",
   "name": "python",
   "nbconvert_exporter": "python",
   "pygments_lexer": "ipython3",
   "version": "3.5.2"
  }
 },
 "nbformat": 4,
 "nbformat_minor": 0
}
